{
 "cells": [
  {
   "cell_type": "code",
   "execution_count": 18,
   "outputs": [
    {
     "name": "stdout",
     "output_type": "stream",
     "text": [
      "['.git', '.idea', 'main_file.ipynb', 'README.md', 'voice.csv']\n"
     ]
    }
   ],
   "source": [
    "import os\n",
    "arr = os.listdir(\"D:/JTech/Gender-Recognition-Voice-Text-Data-SVM-Python\")\n",
    "print(arr)"
   ],
   "metadata": {
    "collapsed": false,
    "pycharm": {
     "name": "#%%\n"
    }
   }
  },
  {
   "cell_type": "code",
   "execution_count": 19,
   "outputs": [],
   "source": [
    "import pandas as pd\n",
    "import numpy as np\n",
    "import seaborn as sns\n",
    "import matplotlib.pyplot as plt\n",
    "%matplotlib inline"
   ],
   "metadata": {
    "collapsed": false,
    "pycharm": {
     "name": "#%%\n"
    }
   }
  },
  {
   "cell_type": "code",
   "execution_count": 22,
   "outputs": [
    {
     "data": {
      "text/plain": "   meanfreq        sd    median       Q25       Q75       IQR       skew  \\\n0  0.059781  0.064241  0.032027  0.015071  0.090193  0.075122  12.863462   \n1  0.066009  0.067310  0.040229  0.019414  0.092666  0.073252  22.423285   \n2  0.077316  0.083829  0.036718  0.008701  0.131908  0.123207  30.757155   \n3  0.151228  0.072111  0.158011  0.096582  0.207955  0.111374   1.232831   \n4  0.135120  0.079146  0.124656  0.078720  0.206045  0.127325   1.101174   \n\n          kurt    sp.ent       sfm  ...  centroid   meanfun    minfun  \\\n0   274.402906  0.893369  0.491918  ...  0.059781  0.084279  0.015702   \n1   634.613855  0.892193  0.513724  ...  0.066009  0.107937  0.015826   \n2  1024.927705  0.846389  0.478905  ...  0.077316  0.098706  0.015656   \n3     4.177296  0.963322  0.727232  ...  0.151228  0.088965  0.017798   \n4     4.333713  0.971955  0.783568  ...  0.135120  0.106398  0.016931   \n\n     maxfun   meandom    mindom    maxdom   dfrange   modindx  label  \n0  0.275862  0.007812  0.007812  0.007812  0.000000  0.000000   male  \n1  0.250000  0.009014  0.007812  0.054688  0.046875  0.052632   male  \n2  0.271186  0.007990  0.007812  0.015625  0.007812  0.046512   male  \n3  0.250000  0.201497  0.007812  0.562500  0.554688  0.247119   male  \n4  0.266667  0.712812  0.007812  5.484375  5.476562  0.208274   male  \n\n[5 rows x 21 columns]",
      "text/html": "<div>\n<style scoped>\n    .dataframe tbody tr th:only-of-type {\n        vertical-align: middle;\n    }\n\n    .dataframe tbody tr th {\n        vertical-align: top;\n    }\n\n    .dataframe thead th {\n        text-align: right;\n    }\n</style>\n<table border=\"1\" class=\"dataframe\">\n  <thead>\n    <tr style=\"text-align: right;\">\n      <th></th>\n      <th>meanfreq</th>\n      <th>sd</th>\n      <th>median</th>\n      <th>Q25</th>\n      <th>Q75</th>\n      <th>IQR</th>\n      <th>skew</th>\n      <th>kurt</th>\n      <th>sp.ent</th>\n      <th>sfm</th>\n      <th>...</th>\n      <th>centroid</th>\n      <th>meanfun</th>\n      <th>minfun</th>\n      <th>maxfun</th>\n      <th>meandom</th>\n      <th>mindom</th>\n      <th>maxdom</th>\n      <th>dfrange</th>\n      <th>modindx</th>\n      <th>label</th>\n    </tr>\n  </thead>\n  <tbody>\n    <tr>\n      <th>0</th>\n      <td>0.059781</td>\n      <td>0.064241</td>\n      <td>0.032027</td>\n      <td>0.015071</td>\n      <td>0.090193</td>\n      <td>0.075122</td>\n      <td>12.863462</td>\n      <td>274.402906</td>\n      <td>0.893369</td>\n      <td>0.491918</td>\n      <td>...</td>\n      <td>0.059781</td>\n      <td>0.084279</td>\n      <td>0.015702</td>\n      <td>0.275862</td>\n      <td>0.007812</td>\n      <td>0.007812</td>\n      <td>0.007812</td>\n      <td>0.000000</td>\n      <td>0.000000</td>\n      <td>male</td>\n    </tr>\n    <tr>\n      <th>1</th>\n      <td>0.066009</td>\n      <td>0.067310</td>\n      <td>0.040229</td>\n      <td>0.019414</td>\n      <td>0.092666</td>\n      <td>0.073252</td>\n      <td>22.423285</td>\n      <td>634.613855</td>\n      <td>0.892193</td>\n      <td>0.513724</td>\n      <td>...</td>\n      <td>0.066009</td>\n      <td>0.107937</td>\n      <td>0.015826</td>\n      <td>0.250000</td>\n      <td>0.009014</td>\n      <td>0.007812</td>\n      <td>0.054688</td>\n      <td>0.046875</td>\n      <td>0.052632</td>\n      <td>male</td>\n    </tr>\n    <tr>\n      <th>2</th>\n      <td>0.077316</td>\n      <td>0.083829</td>\n      <td>0.036718</td>\n      <td>0.008701</td>\n      <td>0.131908</td>\n      <td>0.123207</td>\n      <td>30.757155</td>\n      <td>1024.927705</td>\n      <td>0.846389</td>\n      <td>0.478905</td>\n      <td>...</td>\n      <td>0.077316</td>\n      <td>0.098706</td>\n      <td>0.015656</td>\n      <td>0.271186</td>\n      <td>0.007990</td>\n      <td>0.007812</td>\n      <td>0.015625</td>\n      <td>0.007812</td>\n      <td>0.046512</td>\n      <td>male</td>\n    </tr>\n    <tr>\n      <th>3</th>\n      <td>0.151228</td>\n      <td>0.072111</td>\n      <td>0.158011</td>\n      <td>0.096582</td>\n      <td>0.207955</td>\n      <td>0.111374</td>\n      <td>1.232831</td>\n      <td>4.177296</td>\n      <td>0.963322</td>\n      <td>0.727232</td>\n      <td>...</td>\n      <td>0.151228</td>\n      <td>0.088965</td>\n      <td>0.017798</td>\n      <td>0.250000</td>\n      <td>0.201497</td>\n      <td>0.007812</td>\n      <td>0.562500</td>\n      <td>0.554688</td>\n      <td>0.247119</td>\n      <td>male</td>\n    </tr>\n    <tr>\n      <th>4</th>\n      <td>0.135120</td>\n      <td>0.079146</td>\n      <td>0.124656</td>\n      <td>0.078720</td>\n      <td>0.206045</td>\n      <td>0.127325</td>\n      <td>1.101174</td>\n      <td>4.333713</td>\n      <td>0.971955</td>\n      <td>0.783568</td>\n      <td>...</td>\n      <td>0.135120</td>\n      <td>0.106398</td>\n      <td>0.016931</td>\n      <td>0.266667</td>\n      <td>0.712812</td>\n      <td>0.007812</td>\n      <td>5.484375</td>\n      <td>5.476562</td>\n      <td>0.208274</td>\n      <td>male</td>\n    </tr>\n  </tbody>\n</table>\n<p>5 rows × 21 columns</p>\n</div>"
     },
     "execution_count": 22,
     "metadata": {},
     "output_type": "execute_result"
    }
   ],
   "source": [
    "df = pd.read_csv('D:/JTech/Gender-Recognition-Voice-Text-Data-SVM-Python/voice.csv')\n",
    "df.head()\n",
    "#df.tail()"
   ],
   "metadata": {
    "collapsed": false,
    "pycharm": {
     "name": "#%%\n"
    }
   }
  },
  {
   "cell_type": "code",
   "execution_count": 23,
   "outputs": [
    {
     "data": {
      "text/plain": "          meanfreq        sd    median       Q25       Q75       IQR  \\\nmeanfreq  1.000000 -0.739039  0.925445  0.911416  0.740997 -0.627605   \nsd       -0.739039  1.000000 -0.562603 -0.846931 -0.161076  0.874660   \nmedian    0.925445 -0.562603  1.000000  0.774922  0.731849 -0.477352   \nQ25       0.911416 -0.846931  0.774922  1.000000  0.477140 -0.874189   \nQ75       0.740997 -0.161076  0.731849  0.477140  1.000000  0.009636   \nIQR      -0.627605  0.874660 -0.477352 -0.874189  0.009636  1.000000   \nskew     -0.322327  0.314597 -0.257407 -0.319475 -0.206339  0.249497   \nkurt     -0.316036  0.346241 -0.243382 -0.350182 -0.148881  0.316185   \nsp.ent   -0.601203  0.716620 -0.502005 -0.648126 -0.174905  0.640813   \nsfm      -0.784332  0.838086 -0.661690 -0.766875 -0.378198  0.663601   \nmode      0.687715 -0.529150  0.677433  0.591277  0.486857 -0.403764   \ncentroid  1.000000 -0.739039  0.925445  0.911416  0.740997 -0.627605   \nmeanfun   0.460844 -0.466281  0.414909  0.545035  0.155091 -0.534462   \nminfun    0.383937 -0.345609  0.337602  0.320994  0.258002 -0.222680   \nmaxfun    0.274004 -0.129662  0.251328  0.199841  0.285584 -0.069588   \nmeandom   0.536666 -0.482726  0.455943  0.467403  0.359181 -0.333362   \nmindom    0.229261 -0.357667  0.191169  0.302255 -0.023750 -0.357037   \nmaxdom    0.519528 -0.482278  0.438919  0.459683  0.335114 -0.337877   \ndfrange   0.515570 -0.475999  0.435621  0.454394  0.335648 -0.331563   \nmodindx  -0.216979  0.122660 -0.213298 -0.141377 -0.216475  0.041252   \n\n              skew      kurt    sp.ent       sfm      mode  centroid  \\\nmeanfreq -0.322327 -0.316036 -0.601203 -0.784332  0.687715  1.000000   \nsd        0.314597  0.346241  0.716620  0.838086 -0.529150 -0.739039   \nmedian   -0.257407 -0.243382 -0.502005 -0.661690  0.677433  0.925445   \nQ25      -0.319475 -0.350182 -0.648126 -0.766875  0.591277  0.911416   \nQ75      -0.206339 -0.148881 -0.174905 -0.378198  0.486857  0.740997   \nIQR       0.249497  0.316185  0.640813  0.663601 -0.403764 -0.627605   \nskew      1.000000  0.977020 -0.195459  0.079694 -0.434859 -0.322327   \nkurt      0.977020  1.000000 -0.127644  0.109884 -0.406722 -0.316036   \nsp.ent   -0.195459 -0.127644  1.000000  0.866411 -0.325298 -0.601203   \nsfm       0.079694  0.109884  0.866411  1.000000 -0.485913 -0.784332   \nmode     -0.434859 -0.406722 -0.325298 -0.485913  1.000000  0.687715   \ncentroid -0.322327 -0.316036 -0.601203 -0.784332  0.687715  1.000000   \nmeanfun  -0.167668 -0.194560 -0.513194 -0.421066  0.324771  0.460844   \nminfun   -0.216954 -0.203201 -0.305826 -0.362100  0.385467  0.383937   \nmaxfun   -0.080861 -0.045667 -0.120738 -0.192369  0.172329  0.274004   \nmeandom  -0.336848 -0.303234 -0.293562 -0.428442  0.491479  0.536666   \nmindom   -0.061608 -0.103313 -0.294869 -0.289593  0.198150  0.229261   \nmaxdom   -0.305651 -0.274500 -0.324253 -0.436649  0.477187  0.519528   \ndfrange  -0.304640 -0.272729 -0.319054 -0.431580  0.473775  0.515570   \nmodindx  -0.169325 -0.205539  0.198074  0.211477 -0.182344 -0.216979   \n\n           meanfun    minfun    maxfun   meandom    mindom    maxdom  \\\nmeanfreq  0.460844  0.383937  0.274004  0.536666  0.229261  0.519528   \nsd       -0.466281 -0.345609 -0.129662 -0.482726 -0.357667 -0.482278   \nmedian    0.414909  0.337602  0.251328  0.455943  0.191169  0.438919   \nQ25       0.545035  0.320994  0.199841  0.467403  0.302255  0.459683   \nQ75       0.155091  0.258002  0.285584  0.359181 -0.023750  0.335114   \nIQR      -0.534462 -0.222680 -0.069588 -0.333362 -0.357037 -0.337877   \nskew     -0.167668 -0.216954 -0.080861 -0.336848 -0.061608 -0.305651   \nkurt     -0.194560 -0.203201 -0.045667 -0.303234 -0.103313 -0.274500   \nsp.ent   -0.513194 -0.305826 -0.120738 -0.293562 -0.294869 -0.324253   \nsfm      -0.421066 -0.362100 -0.192369 -0.428442 -0.289593 -0.436649   \nmode      0.324771  0.385467  0.172329  0.491479  0.198150  0.477187   \ncentroid  0.460844  0.383937  0.274004  0.536666  0.229261  0.519528   \nmeanfun   1.000000  0.339387  0.311950  0.270840  0.162163  0.277982   \nminfun    0.339387  1.000000  0.213987  0.375979  0.082015  0.317860   \nmaxfun    0.311950  0.213987  1.000000  0.337553 -0.243426  0.355390   \nmeandom   0.270840  0.375979  0.337553  1.000000  0.099656  0.812838   \nmindom    0.162163  0.082015 -0.243426  0.099656  1.000000  0.026640   \nmaxdom    0.277982  0.317860  0.355390  0.812838  0.026640  1.000000   \ndfrange   0.275154  0.316486  0.359880  0.811304  0.008666  0.999838   \nmodindx  -0.054858  0.002042 -0.363029 -0.180954  0.200212 -0.425531   \n\n           dfrange   modindx  \nmeanfreq  0.515570 -0.216979  \nsd       -0.475999  0.122660  \nmedian    0.435621 -0.213298  \nQ25       0.454394 -0.141377  \nQ75       0.335648 -0.216475  \nIQR      -0.331563  0.041252  \nskew     -0.304640 -0.169325  \nkurt     -0.272729 -0.205539  \nsp.ent   -0.319054  0.198074  \nsfm      -0.431580  0.211477  \nmode      0.473775 -0.182344  \ncentroid  0.515570 -0.216979  \nmeanfun   0.275154 -0.054858  \nminfun    0.316486  0.002042  \nmaxfun    0.359880 -0.363029  \nmeandom   0.811304 -0.180954  \nmindom    0.008666  0.200212  \nmaxdom    0.999838 -0.425531  \ndfrange   1.000000 -0.429266  \nmodindx  -0.429266  1.000000  ",
      "text/html": "<div>\n<style scoped>\n    .dataframe tbody tr th:only-of-type {\n        vertical-align: middle;\n    }\n\n    .dataframe tbody tr th {\n        vertical-align: top;\n    }\n\n    .dataframe thead th {\n        text-align: right;\n    }\n</style>\n<table border=\"1\" class=\"dataframe\">\n  <thead>\n    <tr style=\"text-align: right;\">\n      <th></th>\n      <th>meanfreq</th>\n      <th>sd</th>\n      <th>median</th>\n      <th>Q25</th>\n      <th>Q75</th>\n      <th>IQR</th>\n      <th>skew</th>\n      <th>kurt</th>\n      <th>sp.ent</th>\n      <th>sfm</th>\n      <th>mode</th>\n      <th>centroid</th>\n      <th>meanfun</th>\n      <th>minfun</th>\n      <th>maxfun</th>\n      <th>meandom</th>\n      <th>mindom</th>\n      <th>maxdom</th>\n      <th>dfrange</th>\n      <th>modindx</th>\n    </tr>\n  </thead>\n  <tbody>\n    <tr>\n      <th>meanfreq</th>\n      <td>1.000000</td>\n      <td>-0.739039</td>\n      <td>0.925445</td>\n      <td>0.911416</td>\n      <td>0.740997</td>\n      <td>-0.627605</td>\n      <td>-0.322327</td>\n      <td>-0.316036</td>\n      <td>-0.601203</td>\n      <td>-0.784332</td>\n      <td>0.687715</td>\n      <td>1.000000</td>\n      <td>0.460844</td>\n      <td>0.383937</td>\n      <td>0.274004</td>\n      <td>0.536666</td>\n      <td>0.229261</td>\n      <td>0.519528</td>\n      <td>0.515570</td>\n      <td>-0.216979</td>\n    </tr>\n    <tr>\n      <th>sd</th>\n      <td>-0.739039</td>\n      <td>1.000000</td>\n      <td>-0.562603</td>\n      <td>-0.846931</td>\n      <td>-0.161076</td>\n      <td>0.874660</td>\n      <td>0.314597</td>\n      <td>0.346241</td>\n      <td>0.716620</td>\n      <td>0.838086</td>\n      <td>-0.529150</td>\n      <td>-0.739039</td>\n      <td>-0.466281</td>\n      <td>-0.345609</td>\n      <td>-0.129662</td>\n      <td>-0.482726</td>\n      <td>-0.357667</td>\n      <td>-0.482278</td>\n      <td>-0.475999</td>\n      <td>0.122660</td>\n    </tr>\n    <tr>\n      <th>median</th>\n      <td>0.925445</td>\n      <td>-0.562603</td>\n      <td>1.000000</td>\n      <td>0.774922</td>\n      <td>0.731849</td>\n      <td>-0.477352</td>\n      <td>-0.257407</td>\n      <td>-0.243382</td>\n      <td>-0.502005</td>\n      <td>-0.661690</td>\n      <td>0.677433</td>\n      <td>0.925445</td>\n      <td>0.414909</td>\n      <td>0.337602</td>\n      <td>0.251328</td>\n      <td>0.455943</td>\n      <td>0.191169</td>\n      <td>0.438919</td>\n      <td>0.435621</td>\n      <td>-0.213298</td>\n    </tr>\n    <tr>\n      <th>Q25</th>\n      <td>0.911416</td>\n      <td>-0.846931</td>\n      <td>0.774922</td>\n      <td>1.000000</td>\n      <td>0.477140</td>\n      <td>-0.874189</td>\n      <td>-0.319475</td>\n      <td>-0.350182</td>\n      <td>-0.648126</td>\n      <td>-0.766875</td>\n      <td>0.591277</td>\n      <td>0.911416</td>\n      <td>0.545035</td>\n      <td>0.320994</td>\n      <td>0.199841</td>\n      <td>0.467403</td>\n      <td>0.302255</td>\n      <td>0.459683</td>\n      <td>0.454394</td>\n      <td>-0.141377</td>\n    </tr>\n    <tr>\n      <th>Q75</th>\n      <td>0.740997</td>\n      <td>-0.161076</td>\n      <td>0.731849</td>\n      <td>0.477140</td>\n      <td>1.000000</td>\n      <td>0.009636</td>\n      <td>-0.206339</td>\n      <td>-0.148881</td>\n      <td>-0.174905</td>\n      <td>-0.378198</td>\n      <td>0.486857</td>\n      <td>0.740997</td>\n      <td>0.155091</td>\n      <td>0.258002</td>\n      <td>0.285584</td>\n      <td>0.359181</td>\n      <td>-0.023750</td>\n      <td>0.335114</td>\n      <td>0.335648</td>\n      <td>-0.216475</td>\n    </tr>\n    <tr>\n      <th>IQR</th>\n      <td>-0.627605</td>\n      <td>0.874660</td>\n      <td>-0.477352</td>\n      <td>-0.874189</td>\n      <td>0.009636</td>\n      <td>1.000000</td>\n      <td>0.249497</td>\n      <td>0.316185</td>\n      <td>0.640813</td>\n      <td>0.663601</td>\n      <td>-0.403764</td>\n      <td>-0.627605</td>\n      <td>-0.534462</td>\n      <td>-0.222680</td>\n      <td>-0.069588</td>\n      <td>-0.333362</td>\n      <td>-0.357037</td>\n      <td>-0.337877</td>\n      <td>-0.331563</td>\n      <td>0.041252</td>\n    </tr>\n    <tr>\n      <th>skew</th>\n      <td>-0.322327</td>\n      <td>0.314597</td>\n      <td>-0.257407</td>\n      <td>-0.319475</td>\n      <td>-0.206339</td>\n      <td>0.249497</td>\n      <td>1.000000</td>\n      <td>0.977020</td>\n      <td>-0.195459</td>\n      <td>0.079694</td>\n      <td>-0.434859</td>\n      <td>-0.322327</td>\n      <td>-0.167668</td>\n      <td>-0.216954</td>\n      <td>-0.080861</td>\n      <td>-0.336848</td>\n      <td>-0.061608</td>\n      <td>-0.305651</td>\n      <td>-0.304640</td>\n      <td>-0.169325</td>\n    </tr>\n    <tr>\n      <th>kurt</th>\n      <td>-0.316036</td>\n      <td>0.346241</td>\n      <td>-0.243382</td>\n      <td>-0.350182</td>\n      <td>-0.148881</td>\n      <td>0.316185</td>\n      <td>0.977020</td>\n      <td>1.000000</td>\n      <td>-0.127644</td>\n      <td>0.109884</td>\n      <td>-0.406722</td>\n      <td>-0.316036</td>\n      <td>-0.194560</td>\n      <td>-0.203201</td>\n      <td>-0.045667</td>\n      <td>-0.303234</td>\n      <td>-0.103313</td>\n      <td>-0.274500</td>\n      <td>-0.272729</td>\n      <td>-0.205539</td>\n    </tr>\n    <tr>\n      <th>sp.ent</th>\n      <td>-0.601203</td>\n      <td>0.716620</td>\n      <td>-0.502005</td>\n      <td>-0.648126</td>\n      <td>-0.174905</td>\n      <td>0.640813</td>\n      <td>-0.195459</td>\n      <td>-0.127644</td>\n      <td>1.000000</td>\n      <td>0.866411</td>\n      <td>-0.325298</td>\n      <td>-0.601203</td>\n      <td>-0.513194</td>\n      <td>-0.305826</td>\n      <td>-0.120738</td>\n      <td>-0.293562</td>\n      <td>-0.294869</td>\n      <td>-0.324253</td>\n      <td>-0.319054</td>\n      <td>0.198074</td>\n    </tr>\n    <tr>\n      <th>sfm</th>\n      <td>-0.784332</td>\n      <td>0.838086</td>\n      <td>-0.661690</td>\n      <td>-0.766875</td>\n      <td>-0.378198</td>\n      <td>0.663601</td>\n      <td>0.079694</td>\n      <td>0.109884</td>\n      <td>0.866411</td>\n      <td>1.000000</td>\n      <td>-0.485913</td>\n      <td>-0.784332</td>\n      <td>-0.421066</td>\n      <td>-0.362100</td>\n      <td>-0.192369</td>\n      <td>-0.428442</td>\n      <td>-0.289593</td>\n      <td>-0.436649</td>\n      <td>-0.431580</td>\n      <td>0.211477</td>\n    </tr>\n    <tr>\n      <th>mode</th>\n      <td>0.687715</td>\n      <td>-0.529150</td>\n      <td>0.677433</td>\n      <td>0.591277</td>\n      <td>0.486857</td>\n      <td>-0.403764</td>\n      <td>-0.434859</td>\n      <td>-0.406722</td>\n      <td>-0.325298</td>\n      <td>-0.485913</td>\n      <td>1.000000</td>\n      <td>0.687715</td>\n      <td>0.324771</td>\n      <td>0.385467</td>\n      <td>0.172329</td>\n      <td>0.491479</td>\n      <td>0.198150</td>\n      <td>0.477187</td>\n      <td>0.473775</td>\n      <td>-0.182344</td>\n    </tr>\n    <tr>\n      <th>centroid</th>\n      <td>1.000000</td>\n      <td>-0.739039</td>\n      <td>0.925445</td>\n      <td>0.911416</td>\n      <td>0.740997</td>\n      <td>-0.627605</td>\n      <td>-0.322327</td>\n      <td>-0.316036</td>\n      <td>-0.601203</td>\n      <td>-0.784332</td>\n      <td>0.687715</td>\n      <td>1.000000</td>\n      <td>0.460844</td>\n      <td>0.383937</td>\n      <td>0.274004</td>\n      <td>0.536666</td>\n      <td>0.229261</td>\n      <td>0.519528</td>\n      <td>0.515570</td>\n      <td>-0.216979</td>\n    </tr>\n    <tr>\n      <th>meanfun</th>\n      <td>0.460844</td>\n      <td>-0.466281</td>\n      <td>0.414909</td>\n      <td>0.545035</td>\n      <td>0.155091</td>\n      <td>-0.534462</td>\n      <td>-0.167668</td>\n      <td>-0.194560</td>\n      <td>-0.513194</td>\n      <td>-0.421066</td>\n      <td>0.324771</td>\n      <td>0.460844</td>\n      <td>1.000000</td>\n      <td>0.339387</td>\n      <td>0.311950</td>\n      <td>0.270840</td>\n      <td>0.162163</td>\n      <td>0.277982</td>\n      <td>0.275154</td>\n      <td>-0.054858</td>\n    </tr>\n    <tr>\n      <th>minfun</th>\n      <td>0.383937</td>\n      <td>-0.345609</td>\n      <td>0.337602</td>\n      <td>0.320994</td>\n      <td>0.258002</td>\n      <td>-0.222680</td>\n      <td>-0.216954</td>\n      <td>-0.203201</td>\n      <td>-0.305826</td>\n      <td>-0.362100</td>\n      <td>0.385467</td>\n      <td>0.383937</td>\n      <td>0.339387</td>\n      <td>1.000000</td>\n      <td>0.213987</td>\n      <td>0.375979</td>\n      <td>0.082015</td>\n      <td>0.317860</td>\n      <td>0.316486</td>\n      <td>0.002042</td>\n    </tr>\n    <tr>\n      <th>maxfun</th>\n      <td>0.274004</td>\n      <td>-0.129662</td>\n      <td>0.251328</td>\n      <td>0.199841</td>\n      <td>0.285584</td>\n      <td>-0.069588</td>\n      <td>-0.080861</td>\n      <td>-0.045667</td>\n      <td>-0.120738</td>\n      <td>-0.192369</td>\n      <td>0.172329</td>\n      <td>0.274004</td>\n      <td>0.311950</td>\n      <td>0.213987</td>\n      <td>1.000000</td>\n      <td>0.337553</td>\n      <td>-0.243426</td>\n      <td>0.355390</td>\n      <td>0.359880</td>\n      <td>-0.363029</td>\n    </tr>\n    <tr>\n      <th>meandom</th>\n      <td>0.536666</td>\n      <td>-0.482726</td>\n      <td>0.455943</td>\n      <td>0.467403</td>\n      <td>0.359181</td>\n      <td>-0.333362</td>\n      <td>-0.336848</td>\n      <td>-0.303234</td>\n      <td>-0.293562</td>\n      <td>-0.428442</td>\n      <td>0.491479</td>\n      <td>0.536666</td>\n      <td>0.270840</td>\n      <td>0.375979</td>\n      <td>0.337553</td>\n      <td>1.000000</td>\n      <td>0.099656</td>\n      <td>0.812838</td>\n      <td>0.811304</td>\n      <td>-0.180954</td>\n    </tr>\n    <tr>\n      <th>mindom</th>\n      <td>0.229261</td>\n      <td>-0.357667</td>\n      <td>0.191169</td>\n      <td>0.302255</td>\n      <td>-0.023750</td>\n      <td>-0.357037</td>\n      <td>-0.061608</td>\n      <td>-0.103313</td>\n      <td>-0.294869</td>\n      <td>-0.289593</td>\n      <td>0.198150</td>\n      <td>0.229261</td>\n      <td>0.162163</td>\n      <td>0.082015</td>\n      <td>-0.243426</td>\n      <td>0.099656</td>\n      <td>1.000000</td>\n      <td>0.026640</td>\n      <td>0.008666</td>\n      <td>0.200212</td>\n    </tr>\n    <tr>\n      <th>maxdom</th>\n      <td>0.519528</td>\n      <td>-0.482278</td>\n      <td>0.438919</td>\n      <td>0.459683</td>\n      <td>0.335114</td>\n      <td>-0.337877</td>\n      <td>-0.305651</td>\n      <td>-0.274500</td>\n      <td>-0.324253</td>\n      <td>-0.436649</td>\n      <td>0.477187</td>\n      <td>0.519528</td>\n      <td>0.277982</td>\n      <td>0.317860</td>\n      <td>0.355390</td>\n      <td>0.812838</td>\n      <td>0.026640</td>\n      <td>1.000000</td>\n      <td>0.999838</td>\n      <td>-0.425531</td>\n    </tr>\n    <tr>\n      <th>dfrange</th>\n      <td>0.515570</td>\n      <td>-0.475999</td>\n      <td>0.435621</td>\n      <td>0.454394</td>\n      <td>0.335648</td>\n      <td>-0.331563</td>\n      <td>-0.304640</td>\n      <td>-0.272729</td>\n      <td>-0.319054</td>\n      <td>-0.431580</td>\n      <td>0.473775</td>\n      <td>0.515570</td>\n      <td>0.275154</td>\n      <td>0.316486</td>\n      <td>0.359880</td>\n      <td>0.811304</td>\n      <td>0.008666</td>\n      <td>0.999838</td>\n      <td>1.000000</td>\n      <td>-0.429266</td>\n    </tr>\n    <tr>\n      <th>modindx</th>\n      <td>-0.216979</td>\n      <td>0.122660</td>\n      <td>-0.213298</td>\n      <td>-0.141377</td>\n      <td>-0.216475</td>\n      <td>0.041252</td>\n      <td>-0.169325</td>\n      <td>-0.205539</td>\n      <td>0.198074</td>\n      <td>0.211477</td>\n      <td>-0.182344</td>\n      <td>-0.216979</td>\n      <td>-0.054858</td>\n      <td>0.002042</td>\n      <td>-0.363029</td>\n      <td>-0.180954</td>\n      <td>0.200212</td>\n      <td>-0.425531</td>\n      <td>-0.429266</td>\n      <td>1.000000</td>\n    </tr>\n  </tbody>\n</table>\n</div>"
     },
     "execution_count": 23,
     "metadata": {},
     "output_type": "execute_result"
    }
   ],
   "source": [
    "df.corr()"
   ],
   "metadata": {
    "collapsed": false,
    "pycharm": {
     "name": "#%%\n"
    }
   }
  },
  {
   "cell_type": "code",
   "execution_count": 24,
   "outputs": [
    {
     "data": {
      "text/plain": "meanfreq    0\nsd          0\nmedian      0\nQ25         0\nQ75         0\nIQR         0\nskew        0\nkurt        0\nsp.ent      0\nsfm         0\nmode        0\ncentroid    0\nmeanfun     0\nminfun      0\nmaxfun      0\nmeandom     0\nmindom      0\nmaxdom      0\ndfrange     0\nmodindx     0\nlabel       0\ndtype: int64"
     },
     "execution_count": 24,
     "metadata": {},
     "output_type": "execute_result"
    }
   ],
   "source": [
    "df.isnull().sum()"
   ],
   "metadata": {
    "collapsed": false,
    "pycharm": {
     "name": "#%%\n"
    }
   }
  },
  {
   "cell_type": "code",
   "execution_count": 26,
   "outputs": [
    {
     "data": {
      "text/plain": "(3168, 21)"
     },
     "execution_count": 26,
     "metadata": {},
     "output_type": "execute_result"
    }
   ],
   "source": [
    "df.shape"
   ],
   "metadata": {
    "collapsed": false,
    "pycharm": {
     "name": "#%%\n"
    }
   }
  },
  {
   "cell_type": "code",
   "execution_count": 27,
   "outputs": [
    {
     "name": "stdout",
     "output_type": "stream",
     "text": [
      "Total number of labels: 3168\n",
      "Number of male: 1584\n",
      "Number of female: 1584\n"
     ]
    }
   ],
   "source": [
    "print(\"Total number of labels: {}\".format(df.shape[0]))\n",
    "print(\"Number of male: {}\".format(df[df.label == 'male'].shape[0]))\n",
    "print(\"Number of female: {}\".format(df[df.label == 'female'].shape[0]))"
   ],
   "metadata": {
    "collapsed": false,
    "pycharm": {
     "name": "#%%\n"
    }
   }
  },
  {
   "cell_type": "code",
   "execution_count": 28,
   "outputs": [
    {
     "data": {
      "text/plain": "   meanfreq        sd    median       Q25       Q75       IQR       skew  \\\n0  0.059781  0.064241  0.032027  0.015071  0.090193  0.075122  12.863462   \n1  0.066009  0.067310  0.040229  0.019414  0.092666  0.073252  22.423285   \n2  0.077316  0.083829  0.036718  0.008701  0.131908  0.123207  30.757155   \n3  0.151228  0.072111  0.158011  0.096582  0.207955  0.111374   1.232831   \n4  0.135120  0.079146  0.124656  0.078720  0.206045  0.127325   1.101174   \n\n          kurt    sp.ent       sfm      mode  centroid   meanfun    minfun  \\\n0   274.402906  0.893369  0.491918  0.000000  0.059781  0.084279  0.015702   \n1   634.613855  0.892193  0.513724  0.000000  0.066009  0.107937  0.015826   \n2  1024.927705  0.846389  0.478905  0.000000  0.077316  0.098706  0.015656   \n3     4.177296  0.963322  0.727232  0.083878  0.151228  0.088965  0.017798   \n4     4.333713  0.971955  0.783568  0.104261  0.135120  0.106398  0.016931   \n\n     maxfun   meandom    mindom    maxdom   dfrange   modindx  \n0  0.275862  0.007812  0.007812  0.007812  0.000000  0.000000  \n1  0.250000  0.009014  0.007812  0.054688  0.046875  0.052632  \n2  0.271186  0.007990  0.007812  0.015625  0.007812  0.046512  \n3  0.250000  0.201497  0.007812  0.562500  0.554688  0.247119  \n4  0.266667  0.712812  0.007812  5.484375  5.476562  0.208274  ",
      "text/html": "<div>\n<style scoped>\n    .dataframe tbody tr th:only-of-type {\n        vertical-align: middle;\n    }\n\n    .dataframe tbody tr th {\n        vertical-align: top;\n    }\n\n    .dataframe thead th {\n        text-align: right;\n    }\n</style>\n<table border=\"1\" class=\"dataframe\">\n  <thead>\n    <tr style=\"text-align: right;\">\n      <th></th>\n      <th>meanfreq</th>\n      <th>sd</th>\n      <th>median</th>\n      <th>Q25</th>\n      <th>Q75</th>\n      <th>IQR</th>\n      <th>skew</th>\n      <th>kurt</th>\n      <th>sp.ent</th>\n      <th>sfm</th>\n      <th>mode</th>\n      <th>centroid</th>\n      <th>meanfun</th>\n      <th>minfun</th>\n      <th>maxfun</th>\n      <th>meandom</th>\n      <th>mindom</th>\n      <th>maxdom</th>\n      <th>dfrange</th>\n      <th>modindx</th>\n    </tr>\n  </thead>\n  <tbody>\n    <tr>\n      <th>0</th>\n      <td>0.059781</td>\n      <td>0.064241</td>\n      <td>0.032027</td>\n      <td>0.015071</td>\n      <td>0.090193</td>\n      <td>0.075122</td>\n      <td>12.863462</td>\n      <td>274.402906</td>\n      <td>0.893369</td>\n      <td>0.491918</td>\n      <td>0.000000</td>\n      <td>0.059781</td>\n      <td>0.084279</td>\n      <td>0.015702</td>\n      <td>0.275862</td>\n      <td>0.007812</td>\n      <td>0.007812</td>\n      <td>0.007812</td>\n      <td>0.000000</td>\n      <td>0.000000</td>\n    </tr>\n    <tr>\n      <th>1</th>\n      <td>0.066009</td>\n      <td>0.067310</td>\n      <td>0.040229</td>\n      <td>0.019414</td>\n      <td>0.092666</td>\n      <td>0.073252</td>\n      <td>22.423285</td>\n      <td>634.613855</td>\n      <td>0.892193</td>\n      <td>0.513724</td>\n      <td>0.000000</td>\n      <td>0.066009</td>\n      <td>0.107937</td>\n      <td>0.015826</td>\n      <td>0.250000</td>\n      <td>0.009014</td>\n      <td>0.007812</td>\n      <td>0.054688</td>\n      <td>0.046875</td>\n      <td>0.052632</td>\n    </tr>\n    <tr>\n      <th>2</th>\n      <td>0.077316</td>\n      <td>0.083829</td>\n      <td>0.036718</td>\n      <td>0.008701</td>\n      <td>0.131908</td>\n      <td>0.123207</td>\n      <td>30.757155</td>\n      <td>1024.927705</td>\n      <td>0.846389</td>\n      <td>0.478905</td>\n      <td>0.000000</td>\n      <td>0.077316</td>\n      <td>0.098706</td>\n      <td>0.015656</td>\n      <td>0.271186</td>\n      <td>0.007990</td>\n      <td>0.007812</td>\n      <td>0.015625</td>\n      <td>0.007812</td>\n      <td>0.046512</td>\n    </tr>\n    <tr>\n      <th>3</th>\n      <td>0.151228</td>\n      <td>0.072111</td>\n      <td>0.158011</td>\n      <td>0.096582</td>\n      <td>0.207955</td>\n      <td>0.111374</td>\n      <td>1.232831</td>\n      <td>4.177296</td>\n      <td>0.963322</td>\n      <td>0.727232</td>\n      <td>0.083878</td>\n      <td>0.151228</td>\n      <td>0.088965</td>\n      <td>0.017798</td>\n      <td>0.250000</td>\n      <td>0.201497</td>\n      <td>0.007812</td>\n      <td>0.562500</td>\n      <td>0.554688</td>\n      <td>0.247119</td>\n    </tr>\n    <tr>\n      <th>4</th>\n      <td>0.135120</td>\n      <td>0.079146</td>\n      <td>0.124656</td>\n      <td>0.078720</td>\n      <td>0.206045</td>\n      <td>0.127325</td>\n      <td>1.101174</td>\n      <td>4.333713</td>\n      <td>0.971955</td>\n      <td>0.783568</td>\n      <td>0.104261</td>\n      <td>0.135120</td>\n      <td>0.106398</td>\n      <td>0.016931</td>\n      <td>0.266667</td>\n      <td>0.712812</td>\n      <td>0.007812</td>\n      <td>5.484375</td>\n      <td>5.476562</td>\n      <td>0.208274</td>\n    </tr>\n  </tbody>\n</table>\n</div>"
     },
     "execution_count": 28,
     "metadata": {},
     "output_type": "execute_result"
    }
   ],
   "source": [
    "X=df.iloc[:, :-1]\n",
    "X.head()"
   ],
   "metadata": {
    "collapsed": false,
    "pycharm": {
     "name": "#%%\n"
    }
   }
  },
  {
   "cell_type": "code",
   "execution_count": 29,
   "outputs": [
    {
     "data": {
      "text/plain": "array([1, 1, 1, ..., 0, 0, 0])"
     },
     "execution_count": 29,
     "metadata": {},
     "output_type": "execute_result"
    }
   ],
   "source": [
    "from sklearn.preprocessing import LabelEncoder\n",
    "y=df.iloc[:,-1]\n",
    "\n",
    "# Encode label category\n",
    "# male -> 1\n",
    "# female -> 0\n",
    "\n",
    "gender_encoder = LabelEncoder()\n",
    "y = gender_encoder.fit_transform(y)\n",
    "y"
   ],
   "metadata": {
    "collapsed": false,
    "pycharm": {
     "name": "#%%\n"
    }
   }
  },
  {
   "cell_type": "code",
   "execution_count": 30,
   "outputs": [],
   "source": [
    "# Scale the data to be between -1 and 1\n",
    "from sklearn.preprocessing import StandardScaler\n",
    "scaler = StandardScaler()\n",
    "scaler.fit(X)\n",
    "X = scaler.transform(X)"
   ],
   "metadata": {
    "collapsed": false,
    "pycharm": {
     "name": "#%%\n"
    }
   }
  },
  {
   "cell_type": "code",
   "execution_count": 31,
   "outputs": [],
   "source": [
    "from sklearn.model_selection import train_test_split\n",
    "X_train, X_test, y_train, y_test = train_test_split(X, y, test_size=0.2, random_state=1)"
   ],
   "metadata": {
    "collapsed": false,
    "pycharm": {
     "name": "#%%\n"
    }
   }
  },
  {
   "cell_type": "code",
   "execution_count": 32,
   "outputs": [
    {
     "name": "stdout",
     "output_type": "stream",
     "text": [
      "Accuracy Score:\n",
      "0.9763406940063092\n"
     ]
    }
   ],
   "source": [
    "from sklearn.svm import SVC\n",
    "from sklearn import metrics\n",
    "svc=SVC() #Default hyperparameters\n",
    "svc.fit(X_train,y_train)\n",
    "y_pred=svc.predict(X_test)\n",
    "print('Accuracy Score:')\n",
    "print(metrics.accuracy_score(y_test,y_pred))"
   ],
   "metadata": {
    "collapsed": false,
    "pycharm": {
     "name": "#%%\n"
    }
   }
  },
  {
   "cell_type": "code",
   "execution_count": 33,
   "outputs": [
    {
     "name": "stdout",
     "output_type": "stream",
     "text": [
      "Accuracy Score:\n",
      "0.9779179810725552\n"
     ]
    }
   ],
   "source": [
    "svc=SVC(kernel='linear')\n",
    "svc.fit(X_train,y_train)\n",
    "y_pred=svc.predict(X_test)\n",
    "print('Accuracy Score:')\n",
    "print(metrics.accuracy_score(y_test,y_pred))"
   ],
   "metadata": {
    "collapsed": false,
    "pycharm": {
     "name": "#%%\n"
    }
   }
  },
  {
   "cell_type": "code",
   "execution_count": 34,
   "outputs": [
    {
     "name": "stdout",
     "output_type": "stream",
     "text": [
      "Accuracy Score:\n",
      "0.9763406940063092\n"
     ]
    }
   ],
   "source": [
    "svc=SVC(kernel='rbf')\n",
    "svc.fit(X_train,y_train)\n",
    "y_pred=svc.predict(X_test)\n",
    "print('Accuracy Score:')\n",
    "print(metrics.accuracy_score(y_test,y_pred))"
   ],
   "metadata": {
    "collapsed": false,
    "pycharm": {
     "name": "#%%\n"
    }
   }
  },
  {
   "cell_type": "code",
   "execution_count": 35,
   "outputs": [
    {
     "name": "stdout",
     "output_type": "stream",
     "text": [
      "Accuracy Score:\n",
      "0.9589905362776026\n"
     ]
    }
   ],
   "source": [
    "svc=SVC(kernel='poly')\n",
    "svc.fit(X_train,y_train)\n",
    "y_pred=svc.predict(X_test)\n",
    "print('Accuracy Score:')\n",
    "print(metrics.accuracy_score(y_test,y_pred))"
   ],
   "metadata": {
    "collapsed": false,
    "pycharm": {
     "name": "#%%\n"
    }
   }
  },
  {
   "cell_type": "code",
   "execution_count": 37,
   "outputs": [
    {
     "name": "stdout",
     "output_type": "stream",
     "text": [
      "[0.91167192 0.97160883 0.97160883 0.97791798 0.95899054 0.9873817\n",
      " 0.99369085 0.97791798 0.95253165 0.99367089]\n"
     ]
    }
   ],
   "source": [
    "from sklearn.model_selection import cross_val_score\n",
    "svc=SVC(kernel='linear')\n",
    "scores = cross_val_score(svc, X, y, cv=10, scoring='accuracy') #cv is cross validation\n",
    "print(scores)"
   ],
   "metadata": {
    "collapsed": false,
    "pycharm": {
     "name": "#%%\n"
    }
   }
  },
  {
   "cell_type": "code",
   "execution_count": 38,
   "outputs": [
    {
     "name": "stdout",
     "output_type": "stream",
     "text": [
      "0.9696991175178692\n"
     ]
    }
   ],
   "source": [
    "print(scores.mean())"
   ],
   "metadata": {
    "collapsed": false,
    "pycharm": {
     "name": "#%%\n"
    }
   }
  },
  {
   "cell_type": "code",
   "execution_count": 40,
   "outputs": [
    {
     "name": "stdout",
     "output_type": "stream",
     "text": [
      "[0.93375394 0.95583596 0.96845426 0.96214511 0.96529968 0.99684543\n",
      " 0.99053628 0.98422713 0.91455696 0.99367089]\n"
     ]
    }
   ],
   "source": [
    "from sklearn.model_selection import cross_val_score\n",
    "svc=SVC(kernel='rbf')\n",
    "scores = cross_val_score(svc, X, y, cv=10, scoring='accuracy') #cv is cross validation\n",
    "print(scores)"
   ],
   "metadata": {
    "collapsed": false,
    "pycharm": {
     "name": "#%%\n"
    }
   }
  },
  {
   "cell_type": "code",
   "execution_count": 41,
   "outputs": [
    {
     "name": "stdout",
     "output_type": "stream",
     "text": [
      "0.9665325639899376\n"
     ]
    }
   ],
   "source": [
    "print(scores.mean())"
   ],
   "metadata": {
    "collapsed": false,
    "pycharm": {
     "name": "#%%\n"
    }
   }
  },
  {
   "cell_type": "code",
   "execution_count": 42,
   "outputs": [
    {
     "name": "stdout",
     "output_type": "stream",
     "text": [
      "[0.89274448 0.94952681 0.93059937 0.92744479 0.94952681 0.99369085\n",
      " 0.98422713 0.96529968 0.87974684 0.9778481 ]\n"
     ]
    }
   ],
   "source": [
    "from sklearn.model_selection import cross_val_score\n",
    "svc=SVC(kernel='poly')\n",
    "scores = cross_val_score(svc, X, y, cv=10, scoring='accuracy') #cv is cross validation\n",
    "print(scores)"
   ],
   "metadata": {
    "collapsed": false,
    "pycharm": {
     "name": "#%%\n"
    }
   }
  },
  {
   "cell_type": "code",
   "execution_count": 43,
   "outputs": [
    {
     "name": "stdout",
     "output_type": "stream",
     "text": [
      "0.9450654873617378\n"
     ]
    }
   ],
   "source": [
    "print(scores.mean())"
   ],
   "metadata": {
    "collapsed": false,
    "pycharm": {
     "name": "#%%\n"
    }
   }
  },
  {
   "cell_type": "code",
   "execution_count": 45,
   "outputs": [
    {
     "name": "stdout",
     "output_type": "stream",
     "text": [
      "[0.9696991175178692, 0.969068202691371, 0.969068202691371, 0.969068202691371, 0.9693836601046201, 0.9693836601046201, 0.969068202691371, 0.9687527452781215, 0.9684372878648724, 0.9684372878648724, 0.9684372878648724, 0.9684372878648724, 0.9681208321686698, 0.9681208321686698, 0.9681208321686698, 0.9681208321686698, 0.9678043764724673, 0.9678043764724673, 0.9678043764724673, 0.9678043764724673, 0.9681208321686698, 0.968436289581919, 0.968436289581919, 0.9681198338857164, 0.9681198338857164]\n",
      "[0.9696991175178692, 0.969068202691371, 0.969068202691371, 0.969068202691371, 0.9693836601046201, 0.9693836601046201, 0.969068202691371, 0.9687527452781215, 0.9684372878648724, 0.9684372878648724, 0.9684372878648724, 0.9684372878648724, 0.9681208321686698, 0.9681208321686698, 0.9681208321686698, 0.9681208321686698, 0.9678043764724673, 0.9678043764724673, 0.9678043764724673, 0.9678043764724673, 0.9681208321686698, 0.968436289581919, 0.968436289581919, 0.9681198338857164, 0.9681198338857164]\n"
     ]
    }
   ],
   "source": [
    "C_range=list(range(1,26))\n",
    "acc_score=[]\n",
    "for c in C_range:\n",
    "    svc = SVC(kernel='linear', C=c)\n",
    "    scores = cross_val_score(svc, X, y, cv=10, scoring='accuracy')\n",
    "    acc_score.append(scores.mean())\n",
    "print(acc_score)"
   ],
   "metadata": {
    "collapsed": false,
    "pycharm": {
     "name": "#%%\n"
    }
   }
  },
  {
   "cell_type": "code",
   "execution_count": 46,
   "outputs": [
    {
     "data": {
      "text/plain": "Text(0, 0.5, 'Cross-Validated Accuracy')"
     },
     "execution_count": 46,
     "metadata": {},
     "output_type": "execute_result"
    },
    {
     "data": {
      "text/plain": "<Figure size 432x288 with 1 Axes>",
      "image/png": "[encoded data removed]"
     },
     "metadata": {
      "needs_background": "light"
     },
     "output_type": "display_data"
    }
   ],
   "source": [
    "import matplotlib.pyplot as plt\n",
    "%matplotlib inline\n",
    "\n",
    "\n",
    "C_values=list(range(1,26))\n",
    "# plot the value of C for SVM (x-axis) versus the cross-validated accuracy (y-axis)\n",
    "plt.plot(C_values,acc_score)\n",
    "plt.xticks(np.arange(0,27,2))\n",
    "plt.xlabel('Value of C for SVC')\n",
    "plt.ylabel('Cross-Validated Accuracy')"
   ],
   "metadata": {
    "collapsed": false,
    "pycharm": {
     "name": "#%%\n"
    }
   }
  },
  {
   "cell_type": "code",
   "execution_count": 47,
   "outputs": [
    {
     "name": "stdout",
     "output_type": "stream",
     "text": [
      "[0.9706474863235236, 0.9693846583875733, 0.9693836601046201, 0.9693836601046201, 0.9696991175178692, 0.9696991175178692, 0.9693836601046201, 0.9696981192349158, 0.9693826618216667, 0.9696991175178692, 0.9696991175178692, 0.9696991175178692, 0.9696991175178692, 0.9690672044084174, 0.9693836601046201, 0.9693836601046201, 0.9693836601046201, 0.9693836601046201, 0.969068202691371, 0.969068202691371, 0.9693836601046201, 0.9693836601046201, 0.969068202691371, 0.969068202691371, 0.969068202691371, 0.969068202691371, 0.969068202691371, 0.969068202691371, 0.969068202691371, 0.969068202691371, 0.969068202691371, 0.969068202691371, 0.969068202691371, 0.969068202691371, 0.969068202691371, 0.969068202691371, 0.969068202691371, 0.969068202691371, 0.969068202691371, 0.969068202691371, 0.969068202691371, 0.969068202691371, 0.969068202691371, 0.969068202691371, 0.969068202691371, 0.969068202691371, 0.9693836601046201, 0.9693836601046201, 0.9693836601046201, 0.9693836601046201, 0.9693836601046201, 0.969068202691371, 0.969068202691371, 0.969068202691371, 0.969068202691371, 0.9693836601046201, 0.9693836601046201, 0.9693836601046201, 0.9693836601046201]\n"
     ]
    }
   ],
   "source": [
    "C_range=list(np.arange(0.1,6,0.1))\n",
    "acc_score=[]\n",
    "for c in C_range:\n",
    "    svc = SVC(kernel='linear', C=c)\n",
    "    scores = cross_val_score(svc, X, y, cv=10, scoring='accuracy')\n",
    "    acc_score.append(scores.mean())\n",
    "print(acc_score)"
   ],
   "metadata": {
    "collapsed": false,
    "pycharm": {
     "name": "#%%\n"
    }
   }
  },
  {
   "cell_type": "code",
   "execution_count": 48,
   "outputs": [
    {
     "data": {
      "text/plain": "Text(0, 0.5, 'Cross-Validated Accuracy')"
     },
     "execution_count": 48,
     "metadata": {},
     "output_type": "execute_result"
    },
    {
     "data": {
      "text/plain": "<Figure size 432x288 with 1 Axes>",
      "image/png": "[encoded data removed]"
     },
     "metadata": {
      "needs_background": "light"
     },
     "output_type": "display_data"
    }
   ],
   "source": [
    "import matplotlib.pyplot as plt\n",
    "%matplotlib inline\n",
    "\n",
    "C_values=list(np.arange(0.1,6,0.1))\n",
    "# plot the value of C for SVM (x-axis) versus the cross-validated accuracy (y-axis)\n",
    "plt.plot(C_values,acc_score)\n",
    "plt.xticks(np.arange(0.0,6,0.3))\n",
    "plt.xlabel('Value of C for SVC ')\n",
    "plt.ylabel('Cross-Validated Accuracy')"
   ],
   "metadata": {
    "collapsed": false,
    "pycharm": {
     "name": "#%%\n"
    }
   }
  },
  {
   "cell_type": "code",
   "execution_count": 49,
   "outputs": [
    {
     "name": "stdout",
     "output_type": "stream",
     "text": [
      "[0.888240226809887, 0.9551820868106857, 0.9681168390368565, 0.9636874575729744, 0.9061883560276325, 0.6016421754582119, 0.49905362776025236]\n"
     ]
    }
   ],
   "source": [
    "gamma_range=[0.0001,0.001,0.01,0.1,1,10,100]\n",
    "acc_score=[]\n",
    "for g in gamma_range:\n",
    "    svc = SVC(kernel='rbf', gamma=g)\n",
    "    scores = cross_val_score(svc, X, y, cv=10, scoring='accuracy')\n",
    "    acc_score.append(scores.mean())\n",
    "print(acc_score)"
   ],
   "metadata": {
    "collapsed": false,
    "pycharm": {
     "name": "#%%\n"
    }
   }
  },
  {
   "cell_type": "code",
   "execution_count": 50,
   "outputs": [
    {
     "data": {
      "text/plain": "Text(0, 0.5, 'Cross-Validated Accuracy')"
     },
     "execution_count": 50,
     "metadata": {},
     "output_type": "execute_result"
    },
    {
     "data": {
      "text/plain": "<Figure size 432x288 with 1 Axes>",
      "image/png": "[encoded data removed]"
     },
     "metadata": {
      "needs_background": "light"
     },
     "output_type": "display_data"
    }
   ],
   "source": [
    "import matplotlib.pyplot as plt\n",
    "%matplotlib inline\n",
    "\n",
    "gamma_range=[0.0001,0.001,0.01,0.1,1,10,100]\n",
    "\n",
    "# plot the value of C for SVM (x-axis) versus the cross-validated accuracy (y-axis)\n",
    "plt.plot(gamma_range,acc_score)\n",
    "plt.xlabel('Value of gamma for SVC ')\n",
    "plt.xticks(np.arange(0.0001,100,5))\n",
    "plt.ylabel('Cross-Validated Accuracy')"
   ],
   "metadata": {
    "collapsed": false,
    "pycharm": {
     "name": "#%%\n"
    }
   }
  },
  {
   "cell_type": "code",
   "execution_count": 51,
   "outputs": [
    {
     "name": "stdout",
     "output_type": "stream",
     "text": [
      "[0.8515842750469194, 0.9450654873617378, 0.8313989937307829, 0.8661622010142555, 0.7736463283152977]\n"
     ]
    }
   ],
   "source": [
    "degree=[2,3,4,5,6]\n",
    "acc_score=[]\n",
    "for d in degree:\n",
    "    svc = SVC(kernel='poly', degree=d)\n",
    "    scores = cross_val_score(svc, X, y, cv=10, scoring='accuracy')\n",
    "    acc_score.append(scores.mean())\n",
    "print(acc_score)"
   ],
   "metadata": {
    "collapsed": false,
    "pycharm": {
     "name": "#%%\n"
    }
   }
  },
  {
   "cell_type": "code",
   "execution_count": 52,
   "outputs": [
    {
     "data": {
      "text/plain": "Text(0, 0.5, 'Cross-Validated Accuracy')"
     },
     "execution_count": 52,
     "metadata": {},
     "output_type": "execute_result"
    },
    {
     "data": {
      "text/plain": "<Figure size 432x288 with 1 Axes>",
      "image/png": "[encoded data removed]"
     },
     "metadata": {
      "needs_background": "light"
     },
     "output_type": "display_data"
    }
   ],
   "source": [
    "import matplotlib.pyplot as plt\n",
    "%matplotlib inline\n",
    "\n",
    "degree=[2,3,4,5,6]\n",
    "\n",
    "# plot the value of C for SVM (x-axis) versus the cross-validated accuracy (y-axis)\n",
    "plt.plot(degree,acc_score,color='r')\n",
    "plt.xlabel('degrees for SVC ')\n",
    "plt.ylabel('Cross-Validated Accuracy')\n"
   ],
   "metadata": {
    "collapsed": false,
    "pycharm": {
     "name": "#%%\n"
    }
   }
  }
 ],
 "metadata": {
  "kernelspec": {
   "display_name": "Python 3",
   "language": "python",
   "name": "python3"
  },
  "language_info": {
   "codemirror_mode": {
    "name": "ipython",
    "version": 2
   },
   "file_extension": ".py",
   "mimetype": "text/x-python",
   "name": "python",
   "nbconvert_exporter": "python",
   "pygments_lexer": "ipython2",
   "version": "2.7.6"
  }
 },
 "nbformat": 4,
 "nbformat_minor": 0
}